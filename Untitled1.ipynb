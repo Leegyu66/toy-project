{
 "cells": [
  {
   "cell_type": "code",
   "execution_count": null,
   "id": "38e34033",
   "metadata": {},
   "outputs": [],
   "source": [
    "import cv2\n",
    "import numpy as np\n",
    "\n",
    "img = np.zeros((480, 640, 3), np.uint8)\n",
    "\n",
    "click_point = []\n",
    "color = (255, 0, 0)\n",
    "RADIAN = 3\n",
    "THICKNESS = -1\n",
    "\n",
    "\n",
    "def mouse_handler(event, x, y, flags, param):\n",
    "    global img\n",
    "    global click_point\n",
    "    global color\n",
    "    global RADIAN\n",
    "    global THICKNESS\n",
    "    \n",
    "    if flags & cv2.EVENT_FLAG_LBUTTON:\n",
    "        if event == cv2.EVENT_MOUSEMOVE:\n",
    "            click_point.append((x, y))\n",
    "            for point in click_point:\n",
    "                img = cv2.circle(img, point, RADIAN, color, THICKNESS)\n",
    "                cv2.imshow('img', img)\n",
    "                            \n",
    "\n",
    "\n",
    "cv2.imshow('img', img)\n",
    "cv2.setMouseCallback('img', mouse_handler)\n",
    "cv2.waitKey(0)\n",
    "cv2.destroyAllWindows()"
   ]
  }
 ],
 "metadata": {
  "kernelspec": {
   "display_name": "Python 3 (ipykernel)",
   "language": "python",
   "name": "python3"
  },
  "language_info": {
   "codemirror_mode": {
    "name": "ipython",
    "version": 3
   },
   "file_extension": ".py",
   "mimetype": "text/x-python",
   "name": "python",
   "nbconvert_exporter": "python",
   "pygments_lexer": "ipython3",
   "version": "3.9.13"
  }
 },
 "nbformat": 4,
 "nbformat_minor": 5
}
